{
 "cells": [
  {
   "cell_type": "markdown",
   "metadata": {},
   "source": [
    "<h1>Experimental testcases for retail jobs in Pandas:</h1>\n",
    "<p> <font color=red>* analysis done on a smaller sample of actual dataset </font></h3>"
   ]
  },
  {
   "cell_type": "markdown",
   "metadata": {},
   "source": [
    "**Import necessary Packages:**"
   ]
  },
  {
   "cell_type": "code",
   "execution_count": null,
   "metadata": {},
   "outputs": [],
   "source": [
    "import pandas as pd\n",
    "import numpy as np\n",
    "import datetime as dt"
   ]
  },
  {
   "cell_type": "markdown",
   "metadata": {},
   "source": [
    "**Read in csv data in a pandas dataframe:**"
   ]
  },
  {
   "cell_type": "code",
   "execution_count": null,
   "metadata": {},
   "outputs": [],
   "source": [
    "retail_df = (pd.read_csv('./../../input-data/test-data/retail.csv',\n",
    "                                sep=\",\",\n",
    "                                header=0))"
   ]
  },
  {
   "cell_type": "markdown",
   "metadata": {},
   "source": [
    "<h3>Replicate preprocessing/cleaning phase (<font color='blue'>JOB_0</font> in Pandas):</h3>"
   ]
  },
  {
   "cell_type": "code",
   "execution_count": null,
   "metadata": {},
   "outputs": [],
   "source": [
    "retail_df.info()"
   ]
  },
  {
   "cell_type": "code",
   "execution_count": null,
   "metadata": {},
   "outputs": [],
   "source": [
    "retail_df['InvoiceDate'] = pd.to_datetime(retail_df['InvoiceDate'])\n",
    "retail_df = (retail_df.assign(InvoiceYear = retail_df['InvoiceDate'].dt.year, \n",
    "                 InvoiceMonth = retail_df['InvoiceDate'].dt.month , \n",
    "                 InvoiceDay = retail_df['InvoiceDate'].dt.day)\n",
    "             .loc[:, [\"InvoiceNo\",\"StockCode\",\"InvoiceYear\",\"InvoiceMonth\",\"InvoiceDay\"]]\n",
    "                      .sort_values(axis = 0, \n",
    "                                   by=[\"InvoiceYear\",\"InvoiceMonth\",\"InvoiceDay\"], \n",
    "                                   ascending=[False, False, False]\n",
    "                ))"
   ]
  },
  {
   "cell_type": "code",
   "execution_count": null,
   "metadata": {},
   "outputs": [],
   "source": [
    "retail_df = (retail_df.loc[:, [\"InvoiceNo\",\"StockCode\",\"InvoiceYear\",\"InvoiceMonth\",\"InvoiceDay\"]]\n",
    "                      .sort_values(axis = 0, \n",
    "                                   by=[\"InvoiceYear\",\"InvoiceMonth\",\"InvoiceDay\"], \n",
    "                                   ascending=[False, False, False])\n",
    ")"
   ]
  },
  {
   "cell_type": "code",
   "execution_count": null,
   "metadata": {},
   "outputs": [],
   "source": [
    "retail_df.loc[20, \"StockCode\"]"
   ]
  },
  {
   "cell_type": "code",
   "execution_count": null,
   "metadata": {},
   "outputs": [],
   "source": [
    "pd.DataFrame.sort_values?"
   ]
  },
  {
   "cell_type": "code",
   "execution_count": null,
   "metadata": {},
   "outputs": [],
   "source": [
    "test = retail_df.sort_values(axis = 0, by=['Quantity'], ascending=False).head(5)"
   ]
  },
  {
   "cell_type": "code",
   "execution_count": null,
   "metadata": {},
   "outputs": [],
   "source": [
    "test.iloc[0].describe().name"
   ]
  },
  {
   "cell_type": "code",
   "execution_count": null,
   "metadata": {},
   "outputs": [],
   "source": []
  },
  {
   "cell_type": "code",
   "execution_count": null,
   "metadata": {},
   "outputs": [],
   "source": []
  }
 ],
 "metadata": {
  "kernelspec": {
   "display_name": "Python 3",
   "language": "python",
   "name": "python3"
  },
  "language_info": {
   "codemirror_mode": {
    "name": "ipython",
    "version": 3
   },
   "file_extension": ".py",
   "mimetype": "text/x-python",
   "name": "python",
   "nbconvert_exporter": "python",
   "pygments_lexer": "ipython3",
   "version": "3.7.6"
  }
 },
 "nbformat": 4,
 "nbformat_minor": 4
}

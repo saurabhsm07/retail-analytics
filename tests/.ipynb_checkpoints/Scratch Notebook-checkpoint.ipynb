{
 "cells": [
  {
   "cell_type": "code",
   "execution_count": null,
   "metadata": {},
   "outputs": [],
   "source": [
    "#initial config work\n",
    "\n",
    "import os\n",
    "import sys\n",
    "        \n",
    "# add working directory\n",
    "os.chdir(os.getcwd())\n",
    "\n",
    "# Create a variable for our root path\n",
    "SPARK_HOME = os.environ['SPARK_HOME']\n",
    "\n",
    "#Add the following paths to the system path.\n",
    "sys.path.insert(0,os.path.join(SPARK_HOME,\"python\"))\n",
    "sys.path.insert(0,os.path.join(SPARK_HOME,\"python\",\"lib\"))\n",
    "sys.path.insert(0,os.path.join(SPARK_HOME,\"python\",\"lib\",\"pyspark.zip\"))\n",
    "sys.path.insert(0,os.path.join(SPARK_HOME,\"python\",\"lib\",\"py4j-0.10.7-src.zip\"))"
   ]
  },
  {
   "cell_type": "code",
   "execution_count": null,
   "metadata": {},
   "outputs": [],
   "source": [
    "#create spark session\n",
    "from pyspark.sql import SparkSession\n",
    "\n",
    "spark = (SparkSession.builder\n",
    "                     .master(\"local\")\n",
    "                     .appName(\"scratch\")\n",
    "                     .config(\"spark.executor.memory\", \"1g\")\n",
    "                     .config(\"spark.cores.max\", \"2\")\n",
    "                     .getOrCreate())"
   ]
  },
  {
   "cell_type": "code",
   "execution_count": null,
   "metadata": {},
   "outputs": [],
   "source": [
    "\n",
    "retail_df = (spark.read.csv('./../input-data/test-data/retail.csv',\n",
    "                                schema=None,\n",
    "                                sep=\",\",\n",
    "                                inferSchema=True,\n",
    "                                header=True))\n",
    "retail_df.printSchema()"
   ]
  },
  {
   "cell_type": "markdown",
   "metadata": {},
   "source": [
    "#### checking if broadcast partition causes a new stage"
   ]
  },
  {
   "cell_type": "code",
   "execution_count": null,
   "metadata": {},
   "outputs": [],
   "source": [
    "df1 = spark.range(0,10000,2)\n",
    "df2 = spark.range(0,10000,2)"
   ]
  },
  {
   "cell_type": "code",
   "execution_count": null,
   "metadata": {},
   "outputs": [],
   "source": [
    "df3 = df1.selectExpr('(id*5) as id')\n",
    "df4 = df3.join(df2, 'id')"
   ]
  },
  {
   "cell_type": "code",
   "execution_count": null,
   "metadata": {},
   "outputs": [],
   "source": [
    "df5 = df4.repartition(3)"
   ]
  },
  {
   "cell_type": "code",
   "execution_count": null,
   "metadata": {},
   "outputs": [],
   "source": [
    "from pyspark.sql.functions import sum, col\n",
    "df6 = df5.agg(sum(col('id')))"
   ]
  },
  {
   "cell_type": "code",
   "execution_count": null,
   "metadata": {},
   "outputs": [],
   "source": [
    "df6.show(1,False)"
   ]
  },
  {
   "cell_type": "markdown",
   "metadata": {},
   "source": [
    "### Working with JSON :"
   ]
  },
  {
   "cell_type": "code",
   "execution_count": null,
   "metadata": {},
   "outputs": [],
   "source": [
    "categoryData = (spark.range(1)\n",
    "                     .selectExpr(\"\"\"\n",
    "                                     '\n",
    "                                         {\"categories\" :\n",
    "\n",
    "                                            [{\"id\": 1, \n",
    "                                            \"name\" : \"cat_1\", \n",
    "                                            \"sections\":[\n",
    "                                                {\n",
    "                                                \"id\": 1,\n",
    "                                                \"name\": \"sec_1\",\n",
    "                                                \"articles\":[{\n",
    "                                                                \"id\":11,\n",
    "                                                                \"name\": \"art_11\"\n",
    "                                                            },\n",
    "                                                            {\n",
    "                                                                \"id\":12,\n",
    "                                                                \"name\": \"art_12\"\n",
    "                                                            },\n",
    "                                                            {\n",
    "                                                                \"id\":13,\n",
    "                                                                \"name\": \"art_13\"\n",
    "                                                            }]\n",
    "                                                },\n",
    "                                                {\n",
    "                                                \"id\": 2,\n",
    "                                                \"name\": \"sec_2\",\n",
    "                                                \"articles\":[{\n",
    "                                                                \"id\":21,\n",
    "                                                                \"name\": \"art_21\"\n",
    "                                                            },\n",
    "                                                            {\n",
    "                                                                \"id\":22,\n",
    "                                                                \"name\": \"art_22\"\n",
    "                                                            },\n",
    "                                                            {\n",
    "                                                                \"id\":23,\n",
    "                                                                \"name\": \"art_23\"\n",
    "                                                            }]\n",
    "                                                }]\n",
    "                                                },\n",
    "                                            {\"id\": 2,\n",
    "                                            \"name\" : \"cat_2\", \n",
    "                                            \"sections\":[\n",
    "                                                {\n",
    "                                                \"id\": 3,\n",
    "                                                \"name\": \"sec_3\",\n",
    "                                                \"articles\":[{\n",
    "                                                                \"id\":31,\n",
    "                                                                \"name\": \"art_31\"\n",
    "                                                            },\n",
    "                                                            {\n",
    "                                                                \"id\":32,\n",
    "                                                                \"name\": \"art_32\"\n",
    "                                                            },\n",
    "                                                            {\n",
    "                                                                \"id\":33,\n",
    "                                                                \"name\": \"art_33\"\n",
    "                                                            }]\n",
    "                                                },\n",
    "                                                {\n",
    "                                                \"id\": 4,\n",
    "                                                \"name\": \"sec_4\",\n",
    "                                                \"articles\":[{\n",
    "                                                                \"id\":41,\n",
    "                                                                \"name\": \"art_41\"\n",
    "                                                            },\n",
    "                                                            {\n",
    "                                                                \"id\":42,\n",
    "                                                                \"name\": \"art_42\"\n",
    "                                                            },\n",
    "                                                            {\n",
    "                                                                \"id\":43,\n",
    "                                                                \"name\": \"art_43\"\n",
    "                                                            }]\n",
    "                                                }]\n",
    "                                                }\n",
    "                                                ]\n",
    "                                                }'\n",
    "                                                    as categoryData\n",
    "                                            \n",
    "                                         \"\"\"))"
   ]
  },
  {
   "cell_type": "code",
   "execution_count": null,
   "metadata": {},
   "outputs": [],
   "source": [
    "from pyspark.sql.functions import get_json_object, json_tuple\n",
    "\n",
    "flatdata_df = (categoryData.withColumn('article_id',get_json_object(col('categoryData'), '$.categories[*].sections[*].articles[*].id'))\n",
    "                           .withColumn('section_id',get_json_object(col('categoryData'), '$.categories[*].sections[*].id'))\n",
    "                           .withColumn('category_id',get_json_object(col('categoryData'), '$.categories[*].id')))\n"
   ]
  },
  {
   "cell_type": "code",
   "execution_count": null,
   "metadata": {},
   "outputs": [],
   "source": [
    "from pyspark.sql.functions import explode\n",
    "flatdata_df.select('article_id', 'section_id', 'category_id').show()"
   ]
  },
  {
   "cell_type": "code",
   "execution_count": null,
   "metadata": {},
   "outputs": [],
   "source": [
    "spark.stop()"
   ]
  },
  {
   "cell_type": "markdown",
   "metadata": {},
   "source": [
    "df6.explain()"
   ]
  },
  {
   "cell_type": "markdown",
   "metadata": {},
   "source": [
    "### WINDOW:"
   ]
  },
  {
   "cell_type": "code",
   "execution_count": null,
   "metadata": {},
   "outputs": [],
   "source": [
    "#create a window function\n",
    "\n",
    "from pyspark.sql.window import Window\n",
    "from pyspark.sql.functions import col, date_format, desc, dense_rank, rank, max\n",
    "\n",
    "#convert date format on retail_df\n",
    "transform_step1 = (retail_df.withColumn('InvoiceDate', \n",
    "                                      date_format(col(\"InvoiceDate\"), \"MM/dd/yyyy H:mm\")))\n",
    "\n",
    "#window function\n",
    "window_function = (Window.partitionBy(\"CustomerId\")\n",
    "                   .orderBy(desc(\"Quantity\"))\n",
    "                   .rowsBetween(Window.unboundedPreceding, Window.currentRow))\n",
    "\n",
    "\n",
    "#aggregate functions\n",
    "max_purchase_quantity = max(col(\"Quantity\")).over(window_function)\n",
    "\n",
    "\n",
    "#rank functions\n",
    "purchase_dense_rank = dense_rank().over(window_function)\n",
    "purchase_rank = rank().over(window_function)\n",
    "\n",
    "transformed_df = (retail_df.withColumn('InvoiceDate', date_format(col(\"InvoiceDate\"), \"MM/dd/yyyy H:mm\"))\n",
    "                           .where(\"CustomerId IS NOT NULL\")\n",
    "                           .orderBy(\"CustomerId\")\n",
    "                           .select(col(\"CustomerId\"),\n",
    "                                   col(\"InvoiceDate\"),\n",
    "                                   col(\"Quantity\"),\n",
    "                                   purchase_rank.alias(\"quantityRank\"),\n",
    "                                   purchase_dense_rank.alias(\"quantityDenseRank\"),\n",
    "                                   max_purchase_quantity.alias(\"maxPurchaseQuantity\")))\n",
    "\n",
    "transformed_df.show(10)"
   ]
  },
  {
   "cell_type": "code",
   "execution_count": null,
   "metadata": {},
   "outputs": [],
   "source": [
    "transformed_df.show(10).explain()"
   ]
  },
  {
   "cell_type": "markdown",
   "metadata": {},
   "source": [
    "### GROUP BY:"
   ]
  },
  {
   "cell_type": "code",
   "execution_count": null,
   "metadata": {},
   "outputs": [],
   "source": [
    "from pyspark.sql.functions import sum, to_date, col;\n",
    "groupByDF = (retail_df.drop()\n",
    "                      .withColumn(\"date\", to_date(col(\"InvoiceDate\"), \"MM/d/yyyy H:mm\"))\n",
    "                      .groupBy(\"Date\", \"Country\")\n",
    "                      .agg(sum(\"Quantity\"))\n",
    "                      .selectExpr(\"Date\", \"Country\", \"`sum(Quantity)` as total_quantity\")\n",
    "                      .orderBy(\"Date\"))\n",
    "groupByDF.show()"
   ]
  },
  {
   "cell_type": "code",
   "execution_count": null,
   "metadata": {},
   "outputs": [],
   "source": [
    "groupByDF.count()"
   ]
  },
  {
   "cell_type": "markdown",
   "metadata": {},
   "source": [
    "### ROLL UP:"
   ]
  },
  {
   "cell_type": "code",
   "execution_count": null,
   "metadata": {},
   "outputs": [],
   "source": [
    "from pyspark.sql.functions import sum, to_date, col;\n",
    "rollupDF = (retail_df.drop()\n",
    "                      .withColumn(\"date\", to_date(col(\"InvoiceDate\"), \"MM/d/yyyy H:mm\"))\n",
    "                      .rollup(\"Date\", \"Country\")\n",
    "                      .agg(sum(\"Quantity\"))\n",
    "                      .selectExpr(\"Date\", \"Country\", \"`sum(Quantity)` as total_quantity\")\n",
    "                      .orderBy(\"Date\"))\n",
    "rollupDF.show()\n"
   ]
  },
  {
   "cell_type": "code",
   "execution_count": null,
   "metadata": {},
   "outputs": [],
   "source": [
    "rollupDF.count()"
   ]
  },
  {
   "cell_type": "markdown",
   "metadata": {},
   "source": [
    "### CUBE:"
   ]
  },
  {
   "cell_type": "code",
   "execution_count": null,
   "metadata": {},
   "outputs": [],
   "source": [
    "from pyspark.sql.functions import sum, to_date, col;\n",
    "cubeDF = (retail_df.drop()\n",
    "                      .withColumn(\"date\", to_date(col(\"InvoiceDate\"), \"MM/d/yyyy H:mm\"))\n",
    "                      .cube(\"Date\", \"Country\")\n",
    "                      .agg(sum(\"Quantity\"))\n",
    "                      .selectExpr(\"Date\", \"Country\", \"`sum(Quantity)` as total_quantity\")\n",
    "                      .orderBy(\"Date\"))\n",
    "cubeDF.show()"
   ]
  },
  {
   "cell_type": "code",
   "execution_count": null,
   "metadata": {},
   "outputs": [],
   "source": [
    "cubeDF.count()"
   ]
  },
  {
   "cell_type": "markdown",
   "metadata": {},
   "source": [
    "### GROUPING METADATA:"
   ]
  },
  {
   "cell_type": "code",
   "execution_count": null,
   "metadata": {},
   "outputs": [],
   "source": [
    "from pyspark.sql.functions import sum, to_date, col, grouping_id;\n",
    "\n",
    "cubeWithGroupIdDF = (retail_df.drop()\n",
    "#                       .withColumn(\"date\", to_date(col(\"InvoiceDate\"), \"MM/d/yyyy H:mm\"))\n",
    "                      .cube(\"CustomerID\", \"stockcode\")\n",
    "                      .agg(sum(\"Quantity\"), grouping_id())\n",
    "                      .selectExpr(\"CustomerID\", \"stockcode\",\"`grouping_id()` as gid\", \"`sum(Quantity)` as total_quantity\")\n",
    "                      .orderBy(col(\"gid\").desc()))\n",
    "cubeWithGroupIdDF.show()\n"
   ]
  },
  {
   "cell_type": "code",
   "execution_count": null,
   "metadata": {},
   "outputs": [],
   "source": [
    "cubeWithGroupIdDF.count()"
   ]
  },
  {
   "cell_type": "code",
   "execution_count": null,
   "metadata": {},
   "outputs": [],
   "source": [
    "rollupWithGroupIdDF = (retail_df.drop()\n",
    "#                       .withColumn(\"date\", to_date(col(\"InvoiceDate\"), \"MM/d/yyyy H:mm\"))\n",
    "                      .rollup(\"CustomerID\", \"stockcode\")\n",
    "                      .agg(sum(\"Quantity\"), grouping_id())\n",
    "                      .selectExpr(\"CustomerID\", \"stockcode\",\"`grouping_id()` as gid\", \"`sum(Quantity)` as total_quantity\")\n",
    "                      .orderBy(col(\"gid\").desc()))\n",
    "rollupWithGroupIdDF.show()"
   ]
  },
  {
   "cell_type": "code",
   "execution_count": null,
   "metadata": {},
   "outputs": [],
   "source": [
    "rollupWithGroupIdDF.count()"
   ]
  },
  {
   "cell_type": "markdown",
   "metadata": {},
   "source": [
    "### PIVOT:"
   ]
  },
  {
   "cell_type": "code",
   "execution_count": null,
   "metadata": {},
   "outputs": [],
   "source": [
    "from pyspark.sql.functions import sum, to_date, col;\n",
    "pivoted = retail_df.withColumn('date', to_date(col('invoicedate'), 'dd:mm:yy hh:mm')).groupBy(\"date\").pivot(\"Country\").sum()\n",
    "pivoted.printSchema()"
   ]
  },
  {
   "cell_type": "markdown",
   "metadata": {},
   "source": [
    "### Basic tests"
   ]
  },
  {
   "cell_type": "code",
   "execution_count": null,
   "metadata": {},
   "outputs": [],
   "source": [
    "from pyspark.sql.functions import expr, locate\n",
    "\n",
    "simpleColors = [\"black\", \"white\", \"red\", \"green\", \"blue\"]\n",
    "\n",
    "def color_locator(column, color_string):\n",
    "    return (locate(color_string.upper(), column)\n",
    "                            .cast(\"boolean\")\n",
    "                            .alias(\"is_\" + color_string))\n",
    "\n",
    "\n",
    "selectedColumns = [color_locator(df.Description, c) for c in simpleColors]\n",
    "\n"
   ]
  },
  {
   "cell_type": "code",
   "execution_count": null,
   "metadata": {},
   "outputs": [],
   "source": [
    "selectedColumns"
   ]
  },
  {
   "cell_type": "code",
   "execution_count": null,
   "metadata": {},
   "outputs": [],
   "source": [
    "selectedColumns.append(expr(\"*\"))"
   ]
  },
  {
   "cell_type": "code",
   "execution_count": null,
   "metadata": {},
   "outputs": [],
   "source": [
    "df.select(selectedColumns)"
   ]
  },
  {
   "cell_type": "code",
   "execution_count": null,
   "metadata": {},
   "outputs": [],
   "source": [
    "df.select(selectedColumns).where(expr(\"is_white OR is_red\")).select(\"is_white\").show(3, False)"
   ]
  },
  {
   "cell_type": "code",
   "execution_count": null,
   "metadata": {},
   "outputs": [],
   "source": [
    "from pyspark.sql.functions import struct, expr\n",
    "complexDf = df.withColumn('ComplexCountry',expr('(Country,(CustomerId,Description))'))\n",
    "complexDf.select('$ComplexCountry.CustomerId').show(2, False)"
   ]
  },
  {
   "cell_type": "code",
   "execution_count": null,
   "metadata": {},
   "outputs": [],
   "source": [
    "from pyspark.sql.functions import split, explode\n",
    "descSplits = split(expr('Description'),\" \").alias('splits')\n",
    "descExplodes = explode(split(expr('Description'),\" \").alias('splits')).alias('explodes')\n",
    "df.select(expr('Description'), descSplits, descExplodes).show(10,False)"
   ]
  },
  {
   "cell_type": "code",
   "execution_count": null,
   "metadata": {},
   "outputs": [],
   "source": [
    "jsonDF = spark.range(1).selectExpr(\"\"\"\n",
    "'{\"myJSONKey\" : {\"myJSONValue\" : [1, 2, 3]}}' as jsonString\"\"\")"
   ]
  },
  {
   "cell_type": "code",
   "execution_count": null,
   "metadata": {},
   "outputs": [],
   "source": [
    "from pyspark.sql.functions import get_json_object, json_tuple, col\n",
    "jsonDF.select(get_json_object(col(\"jsonString\"),\"$.myJSONKey.myJSONValue[1]\").alias(\"column\"), json_tuple(col(\"jsonString\"), \"myJSONKey\")).show(2,False)"
   ]
  },
  {
   "cell_type": "code",
   "execution_count": null,
   "metadata": {},
   "outputs": [],
   "source": [
    "from pyspark.sql.functions import col, expr\n",
    "\n",
    "(retail_df.where(col('Quantity') > 3).show(4))"
   ]
  },
  {
   "cell_type": "code",
   "execution_count": null,
   "metadata": {},
   "outputs": [],
   "source": [
    "spark"
   ]
  }
 ],
 "metadata": {
  "kernelspec": {
   "display_name": "Python 3",
   "language": "python",
   "name": "python3"
  },
  "language_info": {
   "codemirror_mode": {
    "name": "ipython",
    "version": 3
   },
   "file_extension": ".py",
   "mimetype": "text/x-python",
   "name": "python",
   "nbconvert_exporter": "python",
   "pygments_lexer": "ipython3",
   "version": "3.7.6"
  }
 },
 "nbformat": 4,
 "nbformat_minor": 4
}

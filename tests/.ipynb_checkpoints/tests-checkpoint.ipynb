{
 "cells": [
  {
   "cell_type": "markdown",
   "metadata": {},
   "source": [
    "<h1>Test Cases for retail jobs:</h1>\n",
    "<p> <font color=red>* test analysis done on sample of actual dataset </font></h3>"
   ]
  },
  {
   "cell_type": "markdown",
   "metadata": {},
   "source": [
    "**Spark Session creation**"
   ]
  },
  {
   "cell_type": "code",
   "execution_count": 1,
   "metadata": {},
   "outputs": [],
   "source": [
    "#initial config work\n",
    "\n",
    "import os\n",
    "import sys\n",
    "        \n",
    "# add working directory\n",
    "os.chdir(os.getcwd())\n",
    "\n",
    "# Create a variable for our root path\n",
    "SPARK_HOME = os.environ['SPARK_HOME']\n",
    "\n",
    "#Add the following paths to the system path.\n",
    "sys.path.insert(0,os.path.join(SPARK_HOME,\"python\"))\n",
    "sys.path.insert(0,os.path.join(SPARK_HOME,\"python\",\"lib\"))\n",
    "sys.path.insert(0,os.path.join(SPARK_HOME,\"python\",\"lib\",\"pyspark.zip\"))\n",
    "sys.path.insert(0,os.path.join(SPARK_HOME,\"python\",\"lib\",\"py4j-0.10.7-src.zip\"))"
   ]
  },
  {
   "cell_type": "code",
   "execution_count": 2,
   "metadata": {},
   "outputs": [],
   "source": [
    "#create spark session\n",
    "from pyspark.sql import SparkSession\n",
    "\n",
    "spark = (SparkSession.builder\n",
    "                     .master(\"local\")\n",
    "                     .appName(\"Word Count\")\n",
    "                     .config(\"spark.executor.memory\", \"1g\")\n",
    "                     .config(\"spark.cores.max\", \"2\")\n",
    "                     .getOrCreate())"
   ]
  },
  {
   "cell_type": "code",
   "execution_count": 3,
   "metadata": {},
   "outputs": [
    {
     "name": "stdout",
     "output_type": "stream",
     "text": [
      "+------+\n",
      "|idBy10|\n",
      "+------+\n",
      "|     0|\n",
      "|    10|\n",
      "|    20|\n",
      "|    30|\n",
      "|    40|\n",
      "+------+\n",
      "only showing top 5 rows\n",
      "\n"
     ]
    }
   ],
   "source": [
    "#test code to see if spark works\n",
    "spark.range(100).selectExpr(\"id*10 as idBy10\").show(5) "
   ]
  },
  {
   "cell_type": "code",
   "execution_count": 42,
   "metadata": {},
   "outputs": [
    {
     "name": "stdout",
     "output_type": "stream",
     "text": [
      "root\n",
      " |-- InvoiceNo: string (nullable = true)\n",
      " |-- StockCode: string (nullable = true)\n",
      " |-- Description: string (nullable = true)\n",
      " |-- Quantity: integer (nullable = true)\n",
      " |-- InvoiceDate: timestamp (nullable = true)\n",
      " |-- UnitPrice: double (nullable = true)\n",
      " |-- CustomerID: double (nullable = true)\n",
      " |-- Country: string (nullable = true)\n",
      "\n"
     ]
    }
   ],
   "source": [
    "#fetch phase - reading a small chunk of sample test data\n",
    "\n",
    "retail_df = (spark.read.csv('./../input-data/test-data/retail.csv',\n",
    "                                schema=None,\n",
    "                                sep=\",\",\n",
    "                                inferSchema=True,\n",
    "                                header=True))\n",
    "retail_df.printSchema()"
   ]
  },
  {
   "cell_type": "code",
   "execution_count": 43,
   "metadata": {},
   "outputs": [
    {
     "name": "stdout",
     "output_type": "stream",
     "text": [
      "+---------+---------+--------------------+--------+-------------------+---------+----------+--------------+\n",
      "|InvoiceNo|StockCode|         Description|Quantity|        InvoiceDate|UnitPrice|CustomerID|       Country|\n",
      "+---------+---------+--------------------+--------+-------------------+---------+----------+--------------+\n",
      "|   536365|   85123A|WHITE HANGING HEA...|       6|2010-12-01 08:26:00|     2.55|   17850.0|United Kingdom|\n",
      "|   536365|    71053| WHITE METAL LANTERN|       6|2010-12-01 08:26:00|     3.39|   17850.0|United Kingdom|\n",
      "+---------+---------+--------------------+--------+-------------------+---------+----------+--------------+\n",
      "only showing top 2 rows\n",
      "\n"
     ]
    }
   ],
   "source": [
    "retail_df.show(2)"
   ]
  },
  {
   "cell_type": "code",
   "execution_count": 52,
   "metadata": {},
   "outputs": [
    {
     "name": "stdout",
     "output_type": "stream",
     "text": [
      "root\n",
      " |-- InvoiceNo: long (nullable = true)\n",
      " |-- StockCode: string (nullable = true)\n",
      " |-- Description: string (nullable = true)\n",
      " |-- Quantity: integer (nullable = true)\n",
      " |-- InvoiceDate: timestamp (nullable = true)\n",
      " |-- UnitPrice: string (nullable = true)\n",
      " |-- CustomerID: double (nullable = true)\n",
      " |-- Country: string (nullable = true)\n",
      "\n"
     ]
    }
   ],
   "source": [
    "#set custom schema\n",
    "from pyspark.sql.types import StructField, StructType, StringType, LongType, IntegerType,DoubleType, TimestampType\n",
    "\n",
    "retailSchema = StructType([\n",
    "            StructField(\"InvoiceNo\", LongType(), True),\n",
    "            StructField(\"StockCode\", StringType(), True),\n",
    "            StructField(\"Description\", StringType(), True),\n",
    "            StructField(\"Quantity\", IntegerType(), True),\n",
    "            StructField(\"InvoiceDate\", TimestampType(), True),\n",
    "            StructField(\"UnitPrice\", StringType(), True),\n",
    "            StructField(\"CustomerID\", DoubleType(), True),\n",
    "            StructField(\"Country\", StringType(), True)\n",
    "])\n",
    "\n",
    "retail_df = (spark.read\n",
    "                         .csv('./../input-data/test-data/retail.csv',\n",
    "                                schema=retailSchema,\n",
    "                                sep=\",\",\n",
    "                                header=True,\n",
    "                             mode='permissive'))\n",
    "retail_df.printSchema()"
   ]
  },
  {
   "cell_type": "code",
   "execution_count": 53,
   "metadata": {},
   "outputs": [
    {
     "name": "stdout",
     "output_type": "stream",
     "text": [
      "+---------+---------+--------------------+--------+-------------------+---------+----------+--------------+\n",
      "|InvoiceNo|StockCode|         Description|Quantity|        InvoiceDate|UnitPrice|CustomerID|       Country|\n",
      "+---------+---------+--------------------+--------+-------------------+---------+----------+--------------+\n",
      "|   536365|   85123A|WHITE HANGING HEA...|       6|2010-12-01 08:26:00|     2.55|   17850.0|United Kingdom|\n",
      "|   536365|    71053| WHITE METAL LANTERN|       6|2010-12-01 08:26:00|     3.39|   17850.0|United Kingdom|\n",
      "|   536365|   84406B|CREAM CUPID HEART...|       8|2010-12-01 08:26:00|     2.75|   17850.0|United Kingdom|\n",
      "|   536365|   84029G|KNITTED UNION FLA...|       6|2010-12-01 08:26:00|     3.39|   17850.0|United Kingdom|\n",
      "|   536365|   84029E|RED WOOLLY HOTTIE...|       6|2010-12-01 08:26:00|     3.39|   17850.0|United Kingdom|\n",
      "|   536365|    22752|SET 7 BABUSHKA NE...|       2|2010-12-01 08:26:00|     7.65|   17850.0|United Kingdom|\n",
      "|   536365|    21730|GLASS STAR FROSTE...|       6|2010-12-01 08:26:00|     4.25|   17850.0|United Kingdom|\n",
      "|   536366|    22633|HAND WARMER UNION...|       6|2010-12-01 08:28:00|     1.85|   17850.0|United Kingdom|\n",
      "|   536366|    22632|HAND WARMER RED P...|       6|2010-12-01 08:28:00|     1.85|   17850.0|United Kingdom|\n",
      "|   536367|    84879|ASSORTED COLOUR B...|      32|2010-12-01 08:34:00|     1.69|   13047.0|United Kingdom|\n",
      "|   536367|    22745|POPPY'S PLAYHOUSE...|       6|2010-12-01 08:34:00|      2.1|   13047.0|United Kingdom|\n",
      "|   536367|    22748|POPPY'S PLAYHOUSE...|       6|2010-12-01 08:34:00|      2.1|   13047.0|United Kingdom|\n",
      "|   536367|    22749|FELTCRAFT PRINCES...|       8|2010-12-01 08:34:00|     3.75|   13047.0|United Kingdom|\n",
      "|   536367|    22310|IVORY KNITTED MUG...|       6|2010-12-01 08:34:00|     1.65|   13047.0|United Kingdom|\n",
      "+---------+---------+--------------------+--------+-------------------+---------+----------+--------------+\n",
      "only showing top 14 rows\n",
      "\n"
     ]
    }
   ],
   "source": [
    "retail_df.show(14)"
   ]
  },
  {
   "cell_type": "markdown",
   "metadata": {},
   "source": [
    "***JOB2 : color based aggregation on quantity and products:***"
   ]
  },
  {
   "cell_type": "code",
   "execution_count": 5,
   "metadata": {},
   "outputs": [],
   "source": [
    "from pyspark.sql.functions import regexp_extract, col, count, sum, expr, regexp_replace\n",
    "\n",
    "extract_str = \"(BLACK|WHITE|RED|GREEN|BLUE)\"\n",
    "\n",
    "transformed_retail = (retail_df.withColumn('product_color', regexp_extract(col(\"Description\"), extract_str, 1))\n",
    "                      .select('Country', 'Quantity', 'UnitPrice',\n",
    "                              regexp_replace(col(\"product_color\"), '^$', \"NOCOLOR\").alias('product_color'))\n",
    "                      .groupBy('Country', 'product_color')\n",
    "                      .agg(sum('Quantity').alias('total_quantity'),\n",
    "                           sum('UnitPrice').alias('total_price'))\n",
    "                      .withColumn('avg_spent (dollars)', expr('total_price/total_quantity'))\n",
    "                      )"
   ]
  },
  {
   "cell_type": "code",
   "execution_count": 6,
   "metadata": {},
   "outputs": [
    {
     "name": "stdout",
     "output_type": "stream",
     "text": [
      "+--------------+-------------+--------------+------------------+-------------------+\n",
      "|       Country|product_color|total_quantity|       total_price|avg_spent (dollars)|\n",
      "+--------------+-------------+--------------+------------------+-------------------+\n",
      "|       Germany|          RED|             8|              8.35|            1.04375|\n",
      "|United Kingdom|      NOCOLOR|         17366|10082.310000000005| 0.5805775653575956|\n",
      "|        France|        GREEN|            12|              3.75|             0.3125|\n",
      "+--------------+-------------+--------------+------------------+-------------------+\n",
      "only showing top 3 rows\n",
      "\n"
     ]
    }
   ],
   "source": [
    "transformed_retail.show(3)"
   ]
  },
  {
   "cell_type": "markdown",
   "metadata": {},
   "source": [
    "***JOB3 : max spent on a day:***"
   ]
  },
  {
   "cell_type": "code",
   "execution_count": 54,
   "metadata": {},
   "outputs": [
    {
     "name": "stdout",
     "output_type": "stream",
     "text": [
      "+----------+----------------+--------+------------+-----------------+-------------------+\n",
      "|CustomerId|     InvoiceDate|Quantity|quantityRank|quantityDenseRank|maxPurchaseQuantity|\n",
      "+----------+----------------+--------+------------+-----------------+-------------------+\n",
      "|   12431.0|12/01/2010 10:03|      24|           1|                1|                 24|\n",
      "|   12431.0|12/01/2010 10:03|      24|           1|                1|                 24|\n",
      "|   12431.0|12/01/2010 10:03|      12|           3|                2|                 24|\n",
      "|   12431.0|12/01/2010 10:03|       8|           4|                3|                 24|\n",
      "|   12431.0|12/01/2010 10:03|       6|           5|                4|                 24|\n",
      "|   12431.0|12/01/2010 10:03|       6|           5|                4|                 24|\n",
      "|   12431.0|12/01/2010 10:03|       6|           5|                4|                 24|\n",
      "|   12431.0|12/01/2010 10:03|       4|           8|                5|                 24|\n",
      "|   12431.0|12/01/2010 10:03|       4|           8|                5|                 24|\n",
      "|   12431.0|12/01/2010 10:03|       4|           8|                5|                 24|\n",
      "+----------+----------------+--------+------------+-----------------+-------------------+\n",
      "only showing top 10 rows\n",
      "\n"
     ]
    }
   ],
   "source": [
    "#create a window function\n",
    "\n",
    "from pyspark.sql.window import Window\n",
    "from pyspark.sql.functions import col, date_format, desc, dense_rank, rank, max\n",
    "\n",
    "#convert date format on retail_df\n",
    "transform_step1 = (retail_df.withColumn('InvoiceDate', \n",
    "                                      date_format(col(\"InvoiceDate\"), \"MM/dd/yyyy H:mm\")))\n",
    "\n",
    "#window function\n",
    "window_function = (Window.partitionBy(\"CustomerId\")\n",
    "                   .orderBy(desc(\"Quantity\"))\n",
    "                   .rowsBetween(Window.unboundedPreceding, Window.currentRow))\n",
    "\n",
    "\n",
    "#aggregate functions\n",
    "max_purchase_quantity = max(col(\"Quantity\")).over(window_function)\n",
    "\n",
    "\n",
    "#rank functions\n",
    "purchase_dense_rank = dense_rank().over(window_function)\n",
    "purchase_rank = rank().over(window_function)\n",
    "\n",
    "transformed_df = (retail_df.withColumn('InvoiceDate', date_format(col(\"InvoiceDate\"), \"MM/dd/yyyy H:mm\"))\n",
    "                           .where(\"CustomerId IS NOT NULL\")\n",
    "                           .orderBy(\"CustomerId\")\n",
    "                           .select(col(\"CustomerId\"),\n",
    "                                   col(\"InvoiceDate\"),\n",
    "                                   col(\"Quantity\"),\n",
    "                                   purchase_rank.alias(\"quantityRank\"),\n",
    "                                   purchase_dense_rank.alias(\"quantityDenseRank\"),\n",
    "                                   max_purchase_quantity.alias(\"maxPurchaseQuantity\")))\n",
    "\n",
    "transformed_df.show(10)"
   ]
  },
  {
   "cell_type": "code",
   "execution_count": 70,
   "metadata": {},
   "outputs": [],
   "source": [
    "dataList = [[1, 'saurabh'], [2, 'shaunak'], [3, 'sampad'], [4, 'anuj'], [None, 'sanil'], [6,None]]\n",
    "\n",
    "test = spark.createDataFrame(dataList)"
   ]
  },
  {
   "cell_type": "code",
   "execution_count": 72,
   "metadata": {},
   "outputs": [],
   "source": [
    "test = test.na.fill('test').na.fill(0)"
   ]
  },
  {
   "cell_type": "code",
   "execution_count": 73,
   "metadata": {},
   "outputs": [
    {
     "name": "stdout",
     "output_type": "stream",
     "text": [
      "+---+-------+\n",
      "| _1|     _2|\n",
      "+---+-------+\n",
      "|  1|saurabh|\n",
      "|  2|shaunak|\n",
      "|  3| sampad|\n",
      "|  4|   anuj|\n",
      "|  0|  sanil|\n",
      "|  6|   test|\n",
      "+---+-------+\n",
      "\n"
     ]
    }
   ],
   "source": [
    "test.show()"
   ]
  },
  {
   "cell_type": "code",
   "execution_count": null,
   "metadata": {},
   "outputs": [],
   "source": []
  }
 ],
 "metadata": {
  "kernelspec": {
   "display_name": "Python 3",
   "language": "python",
   "name": "python3"
  },
  "language_info": {
   "codemirror_mode": {
    "name": "ipython",
    "version": 3
   },
   "file_extension": ".py",
   "mimetype": "text/x-python",
   "name": "python",
   "nbconvert_exporter": "python",
   "pygments_lexer": "ipython3",
   "version": "3.7.6"
  }
 },
 "nbformat": 4,
 "nbformat_minor": 4
}

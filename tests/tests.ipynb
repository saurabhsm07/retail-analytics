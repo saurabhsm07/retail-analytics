{
 "cells": [
  {
   "cell_type": "markdown",
   "metadata": {},
   "source": [
    "<h1>Test Cases for retail jobs:</h1>\n",
    "<p> <font color=red>* test analysis done on sample of actual dataset </font></h3>"
   ]
  },
  {
   "cell_type": "markdown",
   "metadata": {},
   "source": [
    "**Spark Session creation**"
   ]
  },
  {
   "cell_type": "code",
   "execution_count": null,
   "metadata": {},
   "outputs": [],
   "source": [
    "#initial config work\n",
    "\n",
    "import os\n",
    "import sys\n",
    "        \n",
    "# add working directory\n",
    "os.chdir(os.getcwd())\n",
    "\n",
    "# Create a variable for our root path\n",
    "SPARK_HOME = os.environ['SPARK_HOME']\n",
    "\n",
    "#Add the following paths to the system path.\n",
    "sys.path.insert(0,os.path.join(SPARK_HOME,\"python\"))\n",
    "sys.path.insert(0,os.path.join(SPARK_HOME,\"python\",\"lib\"))\n",
    "sys.path.insert(0,os.path.join(SPARK_HOME,\"python\",\"lib\",\"pyspark.zip\"))\n",
    "sys.path.insert(0,os.path.join(SPARK_HOME,\"python\",\"lib\",\"py4j-0.10.7-src.zip\"))"
   ]
  },
  {
   "cell_type": "code",
   "execution_count": null,
   "metadata": {},
   "outputs": [],
   "source": [
    "#create spark session\n",
    "from pyspark.sql import SparkSession\n",
    "\n",
    "spark = (SparkSession.builder\n",
    "                     .master(\"local\")\n",
    "                     .appName(\"Word Count\")\n",
    "                     .config(\"spark.executor.memory\", \"1g\")\n",
    "                     .config(\"spark.cores.max\", \"2\")\n",
    "                     .getOrCreate())"
   ]
  },
  {
   "cell_type": "code",
   "execution_count": null,
   "metadata": {},
   "outputs": [],
   "source": [
    "#test code to see if spark works\n",
    "spark.range(100).selectExpr(\"id*10 as idBy10\").show(5) "
   ]
  },
  {
   "cell_type": "code",
   "execution_count": null,
   "metadata": {},
   "outputs": [],
   "source": [
    "#fetch phase - reading a small chunk of sample test data\n",
    "\n",
    "retail_df = (spark.read.csv('./../input-data/test-data/retail.csv',\n",
    "                                schema=None,\n",
    "                                sep=\",\",\n",
    "                                inferSchema=True,\n",
    "                                header=True))\n",
    "retail_df.printSchema()"
   ]
  },
  {
   "cell_type": "code",
   "execution_count": null,
   "metadata": {},
   "outputs": [],
   "source": [
    "retail_df.show(2)"
   ]
  },
  {
   "cell_type": "markdown",
   "metadata": {},
   "source": [
    "***JOB0: preprocessing/cleaning phase***"
   ]
  },
  {
   "cell_type": "code",
   "execution_count": null,
   "metadata": {},
   "outputs": [],
   "source": [
    "#extract\n",
    "\n",
    "from pyspark.sql.types import StructField, StructType, StringType, LongType, IntegerType,DoubleType, TimestampType\n",
    "\n",
    "retail_schema = StructType([\n",
    "            StructField(\"InvoiceNo\", LongType(), True),\n",
    "            StructField(\"StockCode\", StringType(), True),\n",
    "            StructField(\"Description\", StringType(), True),\n",
    "            StructField(\"Quantity\", IntegerType(), True),\n",
    "            StructField(\"InvoiceDate\", TimestampType(), True),\n",
    "            StructField(\"UnitPrice\", StringType(), True),\n",
    "            StructField(\"CustomerID\", DoubleType(), True),\n",
    "            StructField(\"Country\", StringType(), True)\n",
    "])\n",
    "\n",
    "retail_df = (spark.read\n",
    "                         .csv('./../input-data/test-data/retail.csv',\n",
    "                                schema=retailSchema,\n",
    "                                sep=\",\",\n",
    "                                header=True,\n",
    "                             mode='permissive'))\n",
    "retail_df.printSchema()"
   ]
  },
  {
   "cell_type": "code",
   "execution_count": null,
   "metadata": {},
   "outputs": [],
   "source": [
    "#transformations\n",
    "\n",
    "from pyspark.sql.functions import year, month, dayofmonth, col\n",
    "retail_df = (retail_df.na.fill(0)\n",
    "                        .na.fill('NOVALUE')\n",
    "                        .withColumn('invoiceYear', year(col('InvoiceDate')))\n",
    "                        .withColumn('invoiceMonth', month(col('InvoiceDate')))\n",
    "                        .withColumn('invoiceday', dayofmonth('InvoiceDate')))\n",
    "\n",
    "retail_df.show(2)"
   ]
  },
  {
   "cell_type": "code",
   "execution_count": null,
   "metadata": {},
   "outputs": [],
   "source": [
    "#load\n",
    "\n",
    "(retail_df\n",
    " .coalesce(2)\n",
    " .write\n",
    " .format('json')\n",
    " .mode('overwrite')\n",
    " .partitionBy('invoiceYear','invoiceMonth','invoiceDay')\n",
    " .bucketBy(1, 'Country')\n",
    " .saveAsTable('retail_cleaned'))"
   ]
  },
  {
   "cell_type": "code",
   "execution_count": null,
   "metadata": {},
   "outputs": [],
   "source": [
    "retail_df.show(14)"
   ]
  },
  {
   "cell_type": "markdown",
   "metadata": {},
   "source": [
    "***JOB1 : color based aggregation on quantity and products:***"
   ]
  },
  {
   "cell_type": "code",
   "execution_count": null,
   "metadata": {},
   "outputs": [],
   "source": [
    "from pyspark.sql.functions import regexp_extract, col, count, sum, expr, regexp_replace\n",
    "\n",
    "extract_str = \"(BLACK|WHITE|RED|GREEN|BLUE)\"\n",
    "\n",
    "transformed_retail = (retail_df.withColumn('product_color', regexp_extract(col(\"Description\"), extract_str, 1))\n",
    "                      .select('Country', 'Quantity', 'UnitPrice',\n",
    "                              regexp_replace(col(\"product_color\"), '^$', \"NOCOLOR\").alias('product_color'))\n",
    "                      .groupBy('Country', 'product_color')\n",
    "                      .agg(sum('Quantity').alias('total_quantity'),\n",
    "                           sum('UnitPrice').alias('total_price'))\n",
    "                      .withColumn('avg_spent (dollars)', expr('total_price/total_quantity'))\n",
    "                      )"
   ]
  },
  {
   "cell_type": "code",
   "execution_count": null,
   "metadata": {},
   "outputs": [],
   "source": [
    "transformed_retail.show(3)"
   ]
  },
  {
   "cell_type": "markdown",
   "metadata": {},
   "source": [
    "***JOB2 : max spent on a day:***"
   ]
  },
  {
   "cell_type": "code",
   "execution_count": null,
   "metadata": {},
   "outputs": [],
   "source": [
    "#create a window function\n",
    "\n",
    "from pyspark.sql.window import Window\n",
    "from pyspark.sql.functions import col, date_format, desc, dense_rank, rank, max\n",
    "\n",
    "#convert date format on retail_df\n",
    "transform_step1 = (retail_df.withColumn('InvoiceDate', \n",
    "                                      date_format(col(\"InvoiceDate\"), \"MM/dd/yyyy H:mm\")))\n",
    "\n",
    "#window function\n",
    "window_function = (Window.partitionBy(\"CustomerId\")\n",
    "                   .orderBy(desc(\"Quantity\"))\n",
    "                   .rowsBetween(Window.unboundedPreceding, Window.currentRow))\n",
    "\n",
    "\n",
    "#aggregate functions\n",
    "max_purchase_quantity = max(col(\"Quantity\")).over(window_function)\n",
    "\n",
    "\n",
    "#rank functions\n",
    "purchase_dense_rank = dense_rank().over(window_function)\n",
    "purchase_rank = rank().over(window_function)\n",
    "\n",
    "transformed_df = (retail_df.withColumn('InvoiceDate', date_format(col(\"InvoiceDate\"), \"MM/dd/yyyy H:mm\"))\n",
    "                           .where(\"CustomerId IS NOT NULL\")\n",
    "                           .orderBy(\"CustomerId\")\n",
    "                           .select(col(\"CustomerId\"),\n",
    "                                   col(\"InvoiceDate\"),\n",
    "                                   col(\"Quantity\"),\n",
    "                                   purchase_rank.alias(\"quantityRank\"),\n",
    "                                   purchase_dense_rank.alias(\"quantityDenseRank\"),\n",
    "                                   max_purchase_quantity.alias(\"maxPurchaseQuantity\")))\n",
    "\n",
    "transformed_df.show(10)"
   ]
  },
  {
   "cell_type": "code",
   "execution_count": null,
   "metadata": {},
   "outputs": [],
   "source": [
    "dataList = [[1, 'saurabh'], [2, 'shaunak'], [3, 'sampad'], [4, 'anuj'], [None, 'sanil'], [6,None]]\n",
    "\n",
    "test = spark.createDataFrame(dataList)"
   ]
  },
  {
   "cell_type": "code",
   "execution_count": null,
   "metadata": {},
   "outputs": [],
   "source": [
    "test = test.na.fill('test').na.fill(0)"
   ]
  },
  {
   "cell_type": "code",
   "execution_count": null,
   "metadata": {},
   "outputs": [],
   "source": [
    "test.show()"
   ]
  },
  {
   "cell_type": "code",
   "execution_count": null,
   "metadata": {},
   "outputs": [],
   "source": []
  }
 ],
 "metadata": {
  "kernelspec": {
   "display_name": "Python 3",
   "language": "python",
   "name": "python3"
  },
  "language_info": {
   "codemirror_mode": {
    "name": "ipython",
    "version": 3
   },
   "file_extension": ".py",
   "mimetype": "text/x-python",
   "name": "python",
   "nbconvert_exporter": "python",
   "pygments_lexer": "ipython3",
   "version": "3.7.6"
  }
 },
 "nbformat": 4,
 "nbformat_minor": 4
}
